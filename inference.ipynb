{
 "cells": [
  {
   "cell_type": "markdown",
   "source": [
    "# Seen to seen"
   ],
   "metadata": {}
  },
  {
   "cell_type": "markdown",
   "source": [
    "## English to English"
   ],
   "metadata": {}
  },
  {
   "cell_type": "code",
   "execution_count": null,
   "source": [
    "!python convert.py --audio_path data/source/SEF1/E10001.wav --src_id SEF1 --trg_id SEM1 --out_path results/seen-to-seen/SEF1-to-SEM1.wav"
   ],
   "outputs": [],
   "metadata": {}
  },
  {
   "cell_type": "markdown",
   "source": [
    "## English with France, German, Mandarin speaker"
   ],
   "metadata": {}
  },
  {
   "cell_type": "code",
   "execution_count": null,
   "source": [
    "!python convert.py --audio_path data/source/SEF1/E10001.wav --src_id SEF1 --trg_id TFF1 --out_path results/seen-to-seen/SEF1-to-TFF1.wav\n",
    "!python convert.py --audio_path data/source/SEF1/E10001.wav --src_id SEF1 --trg_id TGF1 --out_path results/seen-to-seen/SEF1-to-TGF1.wav\n",
    "!python convert.py --audio_path data/source/SEF1/E10001.wav --src_id SEF1 --trg_id TMF1 --out_path results/seen-to-seen/SEF1-to-TMF1.wav"
   ],
   "outputs": [],
   "metadata": {}
  },
  {
   "cell_type": "markdown",
   "source": [
    "## France, German, Mandarin with English speaker"
   ],
   "metadata": {}
  },
  {
   "cell_type": "code",
   "execution_count": null,
   "source": [
    "!python convert.py --audio_path data/target_task2/TFF1/F10012.wav --src_id TFF1 --trg_id SEF1 --out_path results/seen-to-seen/TFF1-to-SEF1.wav\n",
    "!python convert.py --audio_path data/target_task2/TGF1/G10001.wav --src_id TGF1 --trg_id SEM1 --out_path results/seen-to-seen/TGF1-to-SEM1.wav\n",
    "!python convert.py --audio_path data/target_task2/TMF1/M10001.wav --src_id TMF1 --trg_id SEM1 --out_path results/seen-to-seen/TMF1-to-SEM1.wav"
   ],
   "outputs": [],
   "metadata": {}
  },
  {
   "cell_type": "markdown",
   "source": [
    "# Unseen to seen"
   ],
   "metadata": {}
  },
  {
   "cell_type": "code",
   "execution_count": null,
   "source": [
    "!python convert.py --audio_path data/unseen/VCC2SF2.wav --src_id VCC2SF2 --trg_id SEF1 --out_path results/unseen-to-seen/VCC2SF2-to-SEF1.wav\n",
    "!python convert.py --audio_path data/unseen/VCC2SF2.wav --src_id VCC2SF2 --trg_id TFF1 --out_path results/unseen-to-seen/VCC2SF2-to-TFF1.wav\n",
    "!python convert.py --audio_path data/unseen/VCC2SF2.wav --src_id VCC2SF2 --trg_id TGF1 --out_path results/unseen-to-seen/VCC2SF2-to-TGF1.wav\n",
    "!python convert.py --audio_path data/unseen/VCC2SF2.wav --src_id VCC2SF2 --trg_id TMF1 --out_path results/unseen-to-seen/VCC2SF2-to-TMF1.wav"
   ],
   "outputs": [],
   "metadata": {}
  },
  {
   "cell_type": "markdown",
   "source": [
    "# Seen to unseen"
   ],
   "metadata": {}
  },
  {
   "cell_type": "code",
   "execution_count": null,
   "source": [
    "!python convert.py --audio_path data/source/SEF1/E10001.wav --src_id SEF1 --trg_id VCC2SF2 --out_path results/seen-to-unseen/SEF1-to-VCC2SF2.wav\n",
    "!python convert.py --audio_path data/target_task2/TFF1/F10012.wav --src_id TFF1 --trg_id VCC2SF2 --out_path results/seen-to-unseen/TFF1-to-VCC2SF2.wav\n",
    "!python convert.py --audio_path data/target_task2/TGF1/G10001.wav --src_id TGF1 --trg_id VCC2SF2 --out_path results/seen-to-unseen/TGF1-to-VCC2SF2.wav\n",
    "!python convert.py --audio_path data/target_task2/TMF1/M10001.wav --src_id TMF1 --trg_id VCC2SF2 --out_path results/seen-to-unseen/TMF1-to-VCC2SF2.wav"
   ],
   "outputs": [],
   "metadata": {}
  },
  {
   "cell_type": "markdown",
   "source": [
    "# Unseen to unseen"
   ],
   "metadata": {}
  },
  {
   "cell_type": "code",
   "execution_count": null,
   "source": [
    "!python convert.py --audio_path data/unseen/VCC2SF2.wav --src_id VCC2SF2 --trg_id VCC2SM1 --out_path results/unseen-to-unseen/VCC2SF2-to-VCC2SM1.wav\n",
    "!python convert.py --audio_path data/unseen/VCC2SM1.wav --src_id VCC2SM1 --trg_id VCC2SF2 --out_path results/unseen-to-unseen/VCC2SSM1-to-VCC2SF2.wav"
   ],
   "outputs": [],
   "metadata": {}
  }
 ],
 "metadata": {
  "orig_nbformat": 4,
  "language_info": {
   "name": "python",
   "version": "3.8.10",
   "mimetype": "text/x-python",
   "codemirror_mode": {
    "name": "ipython",
    "version": 3
   },
   "pygments_lexer": "ipython3",
   "nbconvert_exporter": "python",
   "file_extension": ".py"
  },
  "kernelspec": {
   "name": "python3",
   "display_name": "Python 3.8.10 64-bit ('sing-me': conda)"
  },
  "interpreter": {
   "hash": "17f223d2ec08e59ebafaca5addaeafc9732ae486c47b0fe6723af4f45de67442"
  }
 },
 "nbformat": 4,
 "nbformat_minor": 2
}