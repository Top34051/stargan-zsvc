{
 "cells": [
  {
   "cell_type": "markdown",
   "source": [
    "# Seen to seen"
   ],
   "metadata": {}
  },
  {
   "cell_type": "markdown",
   "source": [
    "## English to English"
   ],
   "metadata": {}
  },
  {
   "cell_type": "code",
   "execution_count": 7,
   "source": [
    "!python convert.py --audio_path data/source/SEF1/E10001.wav --src_id SEF1 --trg_id SEM1 --out_path results/seen-to-seen/SEF1-to-SEM1.wav"
   ],
   "outputs": [
    {
     "output_type": "stream",
     "name": "stdout",
     "text": [
      "Using cache found in /home/jirayu.b/.cache/torch/hub/RF5_simple-speaker-embedding_master\n",
      "/harddrive/harddrive10tb/top/miniconda3/envs/sing-me/lib/python3.8/site-packages/torchaudio/backend/utils.py:53: UserWarning: \"sox\" backend is being deprecated. The default backend will be changed to \"sox_io\" backend in 0.8.0 and \"sox\" backend will be removed in 0.9.0. Please migrate to \"sox_io\" backend. Please refer to https://github.com/pytorch/audio/issues/903 for the detail.\n",
      "  warnings.warn(\n",
      "Using cache found in /home/jirayu.b/.cache/torch/hub/nvidia_DeepLearningExamples_torchhub\n",
      "22050 22050\n"
     ]
    }
   ],
   "metadata": {}
  },
  {
   "cell_type": "markdown",
   "source": [
    "## English with France, German, Mandarin speaker"
   ],
   "metadata": {}
  },
  {
   "cell_type": "code",
   "execution_count": 8,
   "source": [
    "!python convert.py --audio_path data/source/SEF1/E10001.wav --src_id SEF1 --trg_id TFF1 --out_path results/seen-to-seen/SEF1-to-TFF1.wav\n",
    "!python convert.py --audio_path data/source/SEF1/E10001.wav --src_id SEF1 --trg_id TGF1 --out_path results/seen-to-seen/SEF1-to-TGF1.wav\n",
    "!python convert.py --audio_path data/source/SEF1/E10001.wav --src_id SEF1 --trg_id TMF1 --out_path results/seen-to-seen/SEF1-to-TMF1.wav"
   ],
   "outputs": [],
   "metadata": {}
  },
  {
   "cell_type": "markdown",
   "source": [
    "## France, German, Mandarin with English speaker"
   ],
   "metadata": {}
  },
  {
   "cell_type": "code",
   "execution_count": null,
   "source": [
    "!python convert.py --audio_path data/target_task2/TFF1/F10012.wav --src_id TFF1 --trg_id SEF1 --out_path results/seen-to-seen/TFF1-to-SEF1.wav\n",
    "!python convert.py --audio_path data/target_task2/TGF1/G10001.wav --src_id TGF1 --trg_id SEM1 --out_path results/seen-to-seen/TGF1-to-SEM1.wav\n",
    "!python convert.py --audio_path data/target_task2/TMF1/M10001.wav --src_id TMF1 --trg_id SEM1 --out_path results/seen-to-seen/TMF1-to-SEM1.wav"
   ],
   "outputs": [
    {
     "output_type": "stream",
     "name": "stdout",
     "text": [
      "Using cache found in /home/jirayu.b/.cache/torch/hub/RF5_simple-speaker-embedding_master\n",
      "/harddrive/harddrive10tb/top/miniconda3/envs/sing-me/lib/python3.8/site-packages/torchaudio/backend/utils.py:53: UserWarning: \"sox\" backend is being deprecated. The default backend will be changed to \"sox_io\" backend in 0.8.0 and \"sox\" backend will be removed in 0.9.0. Please migrate to \"sox_io\" backend. Please refer to https://github.com/pytorch/audio/issues/903 for the detail.\n",
      "  warnings.warn(\n",
      "Using cache found in /home/jirayu.b/.cache/torch/hub/nvidia_DeepLearningExamples_torchhub\n",
      "22050 22050\n",
      "Using cache found in /home/jirayu.b/.cache/torch/hub/RF5_simple-speaker-embedding_master\n",
      "/harddrive/harddrive10tb/top/miniconda3/envs/sing-me/lib/python3.8/site-packages/torchaudio/backend/utils.py:53: UserWarning: \"sox\" backend is being deprecated. The default backend will be changed to \"sox_io\" backend in 0.8.0 and \"sox\" backend will be removed in 0.9.0. Please migrate to \"sox_io\" backend. Please refer to https://github.com/pytorch/audio/issues/903 for the detail.\n",
      "  warnings.warn(\n",
      "Using cache found in /home/jirayu.b/.cache/torch/hub/nvidia_DeepLearningExamples_torchhub\n",
      "22050 22050\n",
      "Using cache found in /home/jirayu.b/.cache/torch/hub/RF5_simple-speaker-embedding_master\n",
      "/harddrive/harddrive10tb/top/miniconda3/envs/sing-me/lib/python3.8/site-packages/torchaudio/backend/utils.py:53: UserWarning: \"sox\" backend is being deprecated. The default backend will be changed to \"sox_io\" backend in 0.8.0 and \"sox\" backend will be removed in 0.9.0. Please migrate to \"sox_io\" backend. Please refer to https://github.com/pytorch/audio/issues/903 for the detail.\n",
      "  warnings.warn(\n",
      "Using cache found in /home/jirayu.b/.cache/torch/hub/nvidia_DeepLearningExamples_torchhub\n",
      "22050 22050\n"
     ]
    }
   ],
   "metadata": {}
  },
  {
   "cell_type": "markdown",
   "source": [
    "# Unseen to seen"
   ],
   "metadata": {}
  },
  {
   "cell_type": "code",
   "execution_count": null,
   "source": [
    "!python convert.py --audio_path data/unseen/VCC2SF2.wav --src_id VCC2SF2 --trg_id SEF1 --out_path results/unseen-to-seen/VCC2SF2-to-SEF1.wav\n",
    "!python convert.py --audio_path data/unseen/VCC2SF2.wav --src_id VCC2SF2 --trg_id TFF1 --out_path results/unseen-to-seen/VCC2SF2-to-TFF1.wav\n",
    "!python convert.py --audio_path data/unseen/VCC2SF2.wav --src_id VCC2SF2 --trg_id TGF1 --out_path results/unseen-to-seen/VCC2SF2-to-TGF1.wav\n",
    "!python convert.py --audio_path data/unseen/VCC2SF2.wav --src_id VCC2SF2 --trg_id TMF1 --out_path results/unseen-to-seen/VCC2SF2-to-TMF1.wav"
   ],
   "outputs": [
    {
     "output_type": "stream",
     "name": "stdout",
     "text": [
      "Using cache found in /home/jirayu.b/.cache/torch/hub/RF5_simple-speaker-embedding_master\n",
      "/harddrive/harddrive10tb/top/miniconda3/envs/sing-me/lib/python3.8/site-packages/torchaudio/backend/utils.py:53: UserWarning: \"sox\" backend is being deprecated. The default backend will be changed to \"sox_io\" backend in 0.8.0 and \"sox\" backend will be removed in 0.9.0. Please migrate to \"sox_io\" backend. Please refer to https://github.com/pytorch/audio/issues/903 for the detail.\n",
      "  warnings.warn(\n",
      "Using cache found in /home/jirayu.b/.cache/torch/hub/nvidia_DeepLearningExamples_torchhub\n",
      "22050 22050\n",
      "Traceback (most recent call last):\n",
      "  File \"convert.py\", line 51, in <module>\n",
      "    convert_audio(args.audio_path, args.src_id, args.trg_id, args.out_path)\n",
      "  File \"convert.py\", line 41, in convert_audio\n",
      "    sf.write(out_path, res, samplerate=22050)\n",
      "  File \"/harddrive/harddrive10tb/top/miniconda3/envs/sing-me/lib/python3.8/site-packages/soundfile.py\", line 314, in write\n",
      "    with SoundFile(file, 'w', samplerate, channels,\n",
      "  File \"/harddrive/harddrive10tb/top/miniconda3/envs/sing-me/lib/python3.8/site-packages/soundfile.py\", line 629, in __init__\n",
      "    self._file = self._open(file, mode_int, closefd)\n",
      "  File \"/harddrive/harddrive10tb/top/miniconda3/envs/sing-me/lib/python3.8/site-packages/soundfile.py\", line 1183, in _open\n",
      "    _error_check(_snd.sf_error(file_ptr),\n",
      "  File \"/harddrive/harddrive10tb/top/miniconda3/envs/sing-me/lib/python3.8/site-packages/soundfile.py\", line 1357, in _error_check\n",
      "    raise RuntimeError(prefix + _ffi.string(err_str).decode('utf-8', 'replace'))\n",
      "RuntimeError: Error opening 'results/unseen-to-seen/VCC2SF2-to-SEF1.wav': System error.\n",
      "Using cache found in /home/jirayu.b/.cache/torch/hub/RF5_simple-speaker-embedding_master\n",
      "/harddrive/harddrive10tb/top/miniconda3/envs/sing-me/lib/python3.8/site-packages/torchaudio/backend/utils.py:53: UserWarning: \"sox\" backend is being deprecated. The default backend will be changed to \"sox_io\" backend in 0.8.0 and \"sox\" backend will be removed in 0.9.0. Please migrate to \"sox_io\" backend. Please refer to https://github.com/pytorch/audio/issues/903 for the detail.\n",
      "  warnings.warn(\n",
      "Using cache found in /home/jirayu.b/.cache/torch/hub/nvidia_DeepLearningExamples_torchhub\n",
      "22050 22050\n",
      "Traceback (most recent call last):\n",
      "  File \"convert.py\", line 51, in <module>\n",
      "    convert_audio(args.audio_path, args.src_id, args.trg_id, args.out_path)\n",
      "  File \"convert.py\", line 41, in convert_audio\n",
      "    sf.write(out_path, res, samplerate=22050)\n",
      "  File \"/harddrive/harddrive10tb/top/miniconda3/envs/sing-me/lib/python3.8/site-packages/soundfile.py\", line 314, in write\n",
      "    with SoundFile(file, 'w', samplerate, channels,\n",
      "  File \"/harddrive/harddrive10tb/top/miniconda3/envs/sing-me/lib/python3.8/site-packages/soundfile.py\", line 629, in __init__\n",
      "    self._file = self._open(file, mode_int, closefd)\n",
      "  File \"/harddrive/harddrive10tb/top/miniconda3/envs/sing-me/lib/python3.8/site-packages/soundfile.py\", line 1183, in _open\n",
      "    _error_check(_snd.sf_error(file_ptr),\n",
      "  File \"/harddrive/harddrive10tb/top/miniconda3/envs/sing-me/lib/python3.8/site-packages/soundfile.py\", line 1357, in _error_check\n",
      "    raise RuntimeError(prefix + _ffi.string(err_str).decode('utf-8', 'replace'))\n",
      "RuntimeError: Error opening 'results/unseen-to-seen/VCC2SF2-to-TFF1.wav': System error.\n",
      "Using cache found in /home/jirayu.b/.cache/torch/hub/RF5_simple-speaker-embedding_master\n",
      "/harddrive/harddrive10tb/top/miniconda3/envs/sing-me/lib/python3.8/site-packages/torchaudio/backend/utils.py:53: UserWarning: \"sox\" backend is being deprecated. The default backend will be changed to \"sox_io\" backend in 0.8.0 and \"sox\" backend will be removed in 0.9.0. Please migrate to \"sox_io\" backend. Please refer to https://github.com/pytorch/audio/issues/903 for the detail.\n",
      "  warnings.warn(\n",
      "Using cache found in /home/jirayu.b/.cache/torch/hub/nvidia_DeepLearningExamples_torchhub\n",
      "22050 22050\n",
      "Traceback (most recent call last):\n",
      "  File \"convert.py\", line 51, in <module>\n",
      "    convert_audio(args.audio_path, args.src_id, args.trg_id, args.out_path)\n",
      "  File \"convert.py\", line 41, in convert_audio\n",
      "    sf.write(out_path, res, samplerate=22050)\n",
      "  File \"/harddrive/harddrive10tb/top/miniconda3/envs/sing-me/lib/python3.8/site-packages/soundfile.py\", line 314, in write\n",
      "    with SoundFile(file, 'w', samplerate, channels,\n",
      "  File \"/harddrive/harddrive10tb/top/miniconda3/envs/sing-me/lib/python3.8/site-packages/soundfile.py\", line 629, in __init__\n",
      "    self._file = self._open(file, mode_int, closefd)\n",
      "  File \"/harddrive/harddrive10tb/top/miniconda3/envs/sing-me/lib/python3.8/site-packages/soundfile.py\", line 1183, in _open\n",
      "    _error_check(_snd.sf_error(file_ptr),\n",
      "  File \"/harddrive/harddrive10tb/top/miniconda3/envs/sing-me/lib/python3.8/site-packages/soundfile.py\", line 1357, in _error_check\n",
      "    raise RuntimeError(prefix + _ffi.string(err_str).decode('utf-8', 'replace'))\n",
      "RuntimeError: Error opening 'results/unseen-to-seen/VCC2SF2-to-TGF1.wav': System error.\n",
      "Using cache found in /home/jirayu.b/.cache/torch/hub/RF5_simple-speaker-embedding_master\n",
      "/harddrive/harddrive10tb/top/miniconda3/envs/sing-me/lib/python3.8/site-packages/torchaudio/backend/utils.py:53: UserWarning: \"sox\" backend is being deprecated. The default backend will be changed to \"sox_io\" backend in 0.8.0 and \"sox\" backend will be removed in 0.9.0. Please migrate to \"sox_io\" backend. Please refer to https://github.com/pytorch/audio/issues/903 for the detail.\n",
      "  warnings.warn(\n",
      "Using cache found in /home/jirayu.b/.cache/torch/hub/nvidia_DeepLearningExamples_torchhub\n",
      "22050 22050\n",
      "Traceback (most recent call last):\n",
      "  File \"convert.py\", line 51, in <module>\n",
      "    convert_audio(args.audio_path, args.src_id, args.trg_id, args.out_path)\n",
      "  File \"convert.py\", line 41, in convert_audio\n",
      "    sf.write(out_path, res, samplerate=22050)\n",
      "  File \"/harddrive/harddrive10tb/top/miniconda3/envs/sing-me/lib/python3.8/site-packages/soundfile.py\", line 314, in write\n",
      "    with SoundFile(file, 'w', samplerate, channels,\n",
      "  File \"/harddrive/harddrive10tb/top/miniconda3/envs/sing-me/lib/python3.8/site-packages/soundfile.py\", line 629, in __init__\n",
      "    self._file = self._open(file, mode_int, closefd)\n",
      "  File \"/harddrive/harddrive10tb/top/miniconda3/envs/sing-me/lib/python3.8/site-packages/soundfile.py\", line 1183, in _open\n",
      "    _error_check(_snd.sf_error(file_ptr),\n",
      "  File \"/harddrive/harddrive10tb/top/miniconda3/envs/sing-me/lib/python3.8/site-packages/soundfile.py\", line 1357, in _error_check\n",
      "    raise RuntimeError(prefix + _ffi.string(err_str).decode('utf-8', 'replace'))\n",
      "RuntimeError: Error opening 'results/unseen-to-seen/VCC2SF2-to-TMF1.wav': System error.\n"
     ]
    }
   ],
   "metadata": {}
  },
  {
   "cell_type": "markdown",
   "source": [
    "# Seen to unseen"
   ],
   "metadata": {}
  },
  {
   "cell_type": "code",
   "execution_count": null,
   "source": [
    "!python convert.py --audio_path data/source/SEF1/E10001.wav --src_id SEF1 --trg_id VCC2SF2 --out_path results/seen-to-unseen/SEF1-to-VCC2SF2.wav\n",
    "!python convert.py --audio_path data/target_task2/TFF1/F10012.wav --src_id TFF1 --trg_id VCC2SF2 --out_path results/seen-to-unseen/TFF1-to-VCC2SF2.wav\n",
    "!python convert.py --audio_path data/target_task2/TGF1/G10001.wav --src_id TGF1 --trg_id VCC2SF2 --out_path results/seen-to-unseen/TGF1-to-VCC2SF2.wav\n",
    "!python convert.py --audio_path data/target_task2/TMF1/M10001.wav --src_id TMF1 --trg_id VCC2SF2 --out_path results/seen-to-unseen/TMF1-to-VCC2SF2.wav"
   ],
   "outputs": [
    {
     "output_type": "stream",
     "name": "stdout",
     "text": [
      "Using cache found in /home/jirayu.b/.cache/torch/hub/RF5_simple-speaker-embedding_master\n",
      "/harddrive/harddrive10tb/top/miniconda3/envs/sing-me/lib/python3.8/site-packages/torchaudio/backend/utils.py:53: UserWarning: \"sox\" backend is being deprecated. The default backend will be changed to \"sox_io\" backend in 0.8.0 and \"sox\" backend will be removed in 0.9.0. Please migrate to \"sox_io\" backend. Please refer to https://github.com/pytorch/audio/issues/903 for the detail.\n",
      "  warnings.warn(\n",
      "Using cache found in /home/jirayu.b/.cache/torch/hub/nvidia_DeepLearningExamples_torchhub\n",
      "22050 22050\n",
      "Using cache found in /home/jirayu.b/.cache/torch/hub/RF5_simple-speaker-embedding_master\n",
      "/harddrive/harddrive10tb/top/miniconda3/envs/sing-me/lib/python3.8/site-packages/torchaudio/backend/utils.py:53: UserWarning: \"sox\" backend is being deprecated. The default backend will be changed to \"sox_io\" backend in 0.8.0 and \"sox\" backend will be removed in 0.9.0. Please migrate to \"sox_io\" backend. Please refer to https://github.com/pytorch/audio/issues/903 for the detail.\n",
      "  warnings.warn(\n",
      "Using cache found in /home/jirayu.b/.cache/torch/hub/nvidia_DeepLearningExamples_torchhub\n",
      "22050 22050\n",
      "Using cache found in /home/jirayu.b/.cache/torch/hub/RF5_simple-speaker-embedding_master\n",
      "/harddrive/harddrive10tb/top/miniconda3/envs/sing-me/lib/python3.8/site-packages/torchaudio/backend/utils.py:53: UserWarning: \"sox\" backend is being deprecated. The default backend will be changed to \"sox_io\" backend in 0.8.0 and \"sox\" backend will be removed in 0.9.0. Please migrate to \"sox_io\" backend. Please refer to https://github.com/pytorch/audio/issues/903 for the detail.\n",
      "  warnings.warn(\n",
      "Using cache found in /home/jirayu.b/.cache/torch/hub/nvidia_DeepLearningExamples_torchhub\n",
      "22050 22050\n",
      "Using cache found in /home/jirayu.b/.cache/torch/hub/RF5_simple-speaker-embedding_master\n",
      "/harddrive/harddrive10tb/top/miniconda3/envs/sing-me/lib/python3.8/site-packages/torchaudio/backend/utils.py:53: UserWarning: \"sox\" backend is being deprecated. The default backend will be changed to \"sox_io\" backend in 0.8.0 and \"sox\" backend will be removed in 0.9.0. Please migrate to \"sox_io\" backend. Please refer to https://github.com/pytorch/audio/issues/903 for the detail.\n",
      "  warnings.warn(\n",
      "Using cache found in /home/jirayu.b/.cache/torch/hub/nvidia_DeepLearningExamples_torchhub\n",
      "22050 22050\n"
     ]
    }
   ],
   "metadata": {}
  },
  {
   "cell_type": "markdown",
   "source": [
    "# Unseen to unseen"
   ],
   "metadata": {}
  },
  {
   "cell_type": "code",
   "execution_count": null,
   "source": [
    "!python convert.py --audio_path data/unseen/VCC2SF2.wav --src_id VCC2SF2 --trg_id VCC2SM1 --out_path results/unseen-to-unseen/VCC2SF2-to-VCC2SM1.wav\n",
    "!python convert.py --audio_path data/unseen/VCC2SM1.wav --src_id VCC2SM1 --trg_id VCC2SF2 --out_path results/unseen-to-unseen/VCC2SSM1-to-VCC2SF2.wav"
   ],
   "outputs": [
    {
     "output_type": "stream",
     "name": "stdout",
     "text": [
      "Using cache found in /home/jirayu.b/.cache/torch/hub/RF5_simple-speaker-embedding_master\n",
      "/harddrive/harddrive10tb/top/miniconda3/envs/sing-me/lib/python3.8/site-packages/torchaudio/backend/utils.py:53: UserWarning: \"sox\" backend is being deprecated. The default backend will be changed to \"sox_io\" backend in 0.8.0 and \"sox\" backend will be removed in 0.9.0. Please migrate to \"sox_io\" backend. Please refer to https://github.com/pytorch/audio/issues/903 for the detail.\n",
      "  warnings.warn(\n",
      "Using cache found in /home/jirayu.b/.cache/torch/hub/nvidia_DeepLearningExamples_torchhub\n",
      "22050 22050\n",
      "Using cache found in /home/jirayu.b/.cache/torch/hub/RF5_simple-speaker-embedding_master\n",
      "/harddrive/harddrive10tb/top/miniconda3/envs/sing-me/lib/python3.8/site-packages/torchaudio/backend/utils.py:53: UserWarning: \"sox\" backend is being deprecated. The default backend will be changed to \"sox_io\" backend in 0.8.0 and \"sox\" backend will be removed in 0.9.0. Please migrate to \"sox_io\" backend. Please refer to https://github.com/pytorch/audio/issues/903 for the detail.\n",
      "  warnings.warn(\n",
      "Using cache found in /home/jirayu.b/.cache/torch/hub/nvidia_DeepLearningExamples_torchhub\n",
      "Traceback (most recent call last):\n",
      "  File \"convert.py\", line 51, in <module>\n",
      "    convert_audio(args.audio_path, args.src_id, args.trg_id, args.out_path)\n",
      "  File \"convert.py\", line 23, in convert_audio\n",
      "    trg = np.load(f'./embeddings/{trg_id}.npy')\n",
      "  File \"/harddrive/harddrive10tb/top/miniconda3/envs/sing-me/lib/python3.8/site-packages/numpy/lib/npyio.py\", line 416, in load\n",
      "    fid = stack.enter_context(open(os_fspath(file), \"rb\"))\n",
      "FileNotFoundError: [Errno 2] No such file or directory: './embeddings/VCC2SF.npy'\n"
     ]
    }
   ],
   "metadata": {}
  },
  {
   "cell_type": "code",
   "execution_count": null,
   "source": [],
   "outputs": [],
   "metadata": {}
  }
 ],
 "metadata": {
  "orig_nbformat": 4,
  "language_info": {
   "name": "python",
   "version": "3.8.10",
   "mimetype": "text/x-python",
   "codemirror_mode": {
    "name": "ipython",
    "version": 3
   },
   "pygments_lexer": "ipython3",
   "nbconvert_exporter": "python",
   "file_extension": ".py"
  },
  "kernelspec": {
   "name": "python3",
   "display_name": "Python 3.8.10 64-bit ('sing-me': conda)"
  },
  "interpreter": {
   "hash": "17f223d2ec08e59ebafaca5addaeafc9732ae486c47b0fe6723af4f45de67442"
  }
 },
 "nbformat": 4,
 "nbformat_minor": 2
}