{
 "cells": [
  {
   "cell_type": "code",
   "execution_count": 1,
   "source": [
    "from data_loader import get_dataloader\n",
    "from utils import Audio\n",
    "from model.generator import Generator\n",
    "from model.discriminator import Discriminator\n",
    "from data_loader import get_dataloader\n",
    "from solver import Solver\n",
    "\n",
    "import torch\n",
    "from torch import nn\n",
    "import numpy as np\n",
    "import soundfile as sf"
   ],
   "outputs": [],
   "metadata": {}
  },
  {
   "cell_type": "code",
   "execution_count": 3,
   "source": [
    "audio = Audio()\n",
    "mel = audio.audio_to_mel('/harddrive/harddrive10tb/top/vcc2020/source/SEF1/E10001.wav')\n",
    "embed = audio.mel_to_embed(mel)\n",
    "\n",
    "device = torch.device('cuda' if torch.cuda.is_available() else 'cpu')\n",
    "\n",
    "gen = Generator(embed_dim=256).to(device)\n",
    "checkpoint = torch.load('./checkpoints/checkpoint_40.pt')\n",
    "gen.load_state_dict(checkpoint['gen'])\n",
    "\n",
    "src = np.load('./embeddings/SEF1.npy')\n",
    "\n",
    "mel_res = gen(\n",
    "    torch.from_numpy(np.expand_dims(mel[:, :128], 0)), \n",
    "    torch.from_numpy(np.expand_dims(src, 0)), \n",
    "    torch.from_numpy(np.expand_dims(embed, 0))\n",
    ")\n",
    "mel_res = mel_res[0].data.cpu().numpy()\n",
    "res = audio.mel_to_audio(mel_res)\n",
    "\n",
    "sf.write('examples/out.wav', res, samplerate=22050)"
   ],
   "outputs": [
    {
     "output_type": "stream",
     "name": "stderr",
     "text": [
      "Using cache found in /home/jirayu.b/.cache/torch/hub/RF5_simple-speaker-embedding_master\n",
      "Using cache found in /home/jirayu.b/.cache/torch/hub/nvidia_DeepLearningExamples_torchhub\n"
     ]
    },
    {
     "output_type": "stream",
     "name": "stdout",
     "text": [
      "22050 22050\n"
     ]
    }
   ],
   "metadata": {}
  },
  {
   "cell_type": "code",
   "execution_count": null,
   "source": [],
   "outputs": [],
   "metadata": {}
  }
 ],
 "metadata": {
  "orig_nbformat": 4,
  "language_info": {
   "name": "python",
   "version": "3.8.10",
   "mimetype": "text/x-python",
   "codemirror_mode": {
    "name": "ipython",
    "version": 3
   },
   "pygments_lexer": "ipython3",
   "nbconvert_exporter": "python",
   "file_extension": ".py"
  },
  "kernelspec": {
   "name": "python3",
   "display_name": "Python 3.8.10 64-bit ('sing-me': conda)"
  },
  "interpreter": {
   "hash": "17f223d2ec08e59ebafaca5addaeafc9732ae486c47b0fe6723af4f45de67442"
  }
 },
 "nbformat": 4,
 "nbformat_minor": 2
}